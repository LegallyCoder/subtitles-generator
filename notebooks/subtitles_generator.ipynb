{
  "nbformat": 4,
  "nbformat_minor": 0,
  "metadata": {
    "colab": {
      "provenance": [],
      "gpuType": "T4",
      "mount_file_id": "1d0_n20OeNkfd2U9iTcmqCA4u-kJZQtVy",
      "authorship_tag": "ABX9TyNfMfRIM8n8dhWuKhHlEanQ",
      "include_colab_link": true
    },
    "kernelspec": {
      "name": "python3",
      "display_name": "Python 3"
    },
    "language_info": {
      "name": "python"
    },
    "accelerator": "GPU"
  },
  "cells": [
    {
      "cell_type": "markdown",
      "metadata": {
        "id": "view-in-github",
        "colab_type": "text"
      },
      "source": [
        "<a href=\"https://colab.research.google.com/github/konverner/subtitles-generator/blob/main/subtitles_generator.ipynb\" target=\"_parent\"><img src=\"https://colab.research.google.com/assets/colab-badge.svg\" alt=\"Open In Colab\"/></a>"
      ]
    },
    {
      "cell_type": "markdown",
      "source": [
        "install"
      ],
      "metadata": {
        "id": "WPHqnzfnOcJr"
      }
    },
    {
      "cell_type": "code",
      "execution_count": null,
      "metadata": {
        "colab": {
          "base_uri": "https://localhost:8080/"
        },
        "id": "K4nKrt-SMLUw",
        "outputId": "a688b3fb-9f68-4428-ff81-407b2ebd1b1f"
      },
      "outputs": [
        {
          "output_type": "stream",
          "name": "stdout",
          "text": [
            "Cloning into 'subtitles-generator'...\n",
            "remote: Enumerating objects: 132, done.\u001b[K\n",
            "remote: Counting objects: 100% (132/132), done.\u001b[K\n",
            "remote: Compressing objects: 100% (127/127), done.\u001b[K\n",
            "remote: Total 132 (delta 64), reused 17 (delta 3), pack-reused 0\u001b[K\n",
            "Receiving objects: 100% (132/132), 350.25 KiB | 4.32 MiB/s, done.\n",
            "Resolving deltas: 100% (64/64), done.\n",
            "/content/subtitles-generator\n"
          ]
        }
      ],
      "source": [
        "!git clone https://github.com/konverner/subtitles-generator.git\n",
        "%cd /content/subtitles-generator\n",
        "!pip install -r requirements.txt > null"
      ]
    },
    {
      "cell_type": "markdown",
      "source": [
        "run with `large` `german` model on the video `videos/test.mp4`\n",
        "\n",
        "subtitles will be saved as `videos/test.srt`"
      ],
      "metadata": {
        "id": "DPPXxYfFOfF_"
      }
    },
    {
      "cell_type": "code",
      "source": [
        "!python main.py large german videos/test.mp4"
      ],
      "metadata": {
        "id": "CdCeEvLSMQdw"
      },
      "execution_count": null,
      "outputs": []
    }
  ]
}